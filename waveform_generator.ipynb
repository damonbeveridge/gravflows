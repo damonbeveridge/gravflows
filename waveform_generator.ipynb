{
 "cells": [
  {
   "cell_type": "code",
   "execution_count": 1,
   "metadata": {},
   "outputs": [],
   "source": [
    "%load_ext autoreload\n",
    "%autoreload 2"
   ]
  },
  {
   "cell_type": "code",
   "execution_count": 2,
   "metadata": {},
   "outputs": [],
   "source": [
    "import os\n",
    "import argparse\n",
    "import lfigw.waveform_generator as wfg"
   ]
  },
  {
   "cell_type": "code",
   "execution_count": 3,
   "metadata": {},
   "outputs": [],
   "source": [
    "from dataclasses import dataclass\n",
    "\n",
    "@dataclass\n",
    "class Args:\n",
    "    event: str\n",
    "    outdir: str\n",
    "    generate_reduced_basis: int\n",
    "    generate_dataset: int\n",
    "    generate_noisy_test_data: int"
   ]
  },
  {
   "cell_type": "code",
   "execution_count": 4,
   "metadata": {},
   "outputs": [],
   "source": [
    "args = Args(\n",
    "    event='GW150914',\n",
    "    outdir='waveforms',\n",
    "    generate_reduced_basis=50000,\n",
    "    generate_dataset=1000000,\n",
    "    generate_noisy_test_data=5000\n",
    ")"
   ]
  },
  {
   "cell_type": "code",
   "execution_count": 6,
   "metadata": {},
   "outputs": [
    {
     "name": "stderr",
     "output_type": "stream",
     "text": [
      "\r",
      "  0%|          | 0/50000 [00:00<?, ?it/s]"
     ]
    },
    {
     "name": "stdout",
     "output_type": "stream",
     "text": [
      "Dataset properties\n",
      "Event GW150914\n",
      "{'mass_1': [10.0, 80.0], 'mass_2': [10.0, 80.0], 'phase': [0.0, 6.283185307179586], 'time': [-0.1, 0.1], 'distance': [100.0, 1000.0], 'chi_1': [-1.0, 1.0], 'chi_2': [-1.0, 1.0], 'a_1': [0.0, 0.88], 'a_2': [0.0, 0.88], 'tilt_1': [0.0, 3.141592653589793], 'tilt_2': [0.0, 3.141592653589793], 'phi_12': [0.0, 6.283185307179586], 'phi_jl': [0.0, 6.283185307179586], 'theta_jn': [0.0, 3.141592653589793], 'psi': [0.0, 3.141592653589793], 'ra': [0.0, 6.283185307179586], 'dec': [-1.5707963267948966, 1.5707963267948966]}\n",
      "f_min 20.0\n",
      "f_min_psd 20.0\n",
      "f_max 1024.0\n",
      "T 8.0\n",
      "reference time 1126259462.391\n",
      "Generating 50000 detector FD waveforms for training reduced basis.\n",
      "PyCBC PSD from_txt\n",
      "PyCBC PSD from_txt\n"
     ]
    },
    {
     "name": "stderr",
     "output_type": "stream",
     "text": [
      "100%|██████████| 50000/50000 [02:15<00:00, 367.73it/s]\n"
     ]
    },
    {
     "name": "stdout",
     "output_type": "stream",
     "text": [
      "Generating reduced basis for training detector waveforms\n",
      "training_data: [[0.0000000e+00+0.000000e+00j 0.0000000e+00+0.000000e+00j\n",
      "  0.0000000e+00+0.000000e+00j ... 3.4608533e-05+3.641247e-05j\n",
      "  3.7329941e-05+4.027698e-05j 0.0000000e+00+0.000000e+00j]\n",
      " [0.0000000e+00+0.000000e+00j 0.0000000e+00+0.000000e+00j\n",
      "  0.0000000e+00+0.000000e+00j ... 0.0000000e+00-0.000000e+00j\n",
      "  0.0000000e+00-0.000000e+00j 0.0000000e+00-0.000000e+00j]\n",
      " [0.0000000e+00+0.000000e+00j 0.0000000e+00+0.000000e+00j\n",
      "  0.0000000e+00+0.000000e+00j ... 0.0000000e+00+0.000000e+00j\n",
      "  0.0000000e+00+0.000000e+00j 0.0000000e+00+0.000000e+00j]\n",
      " ...\n",
      " [0.0000000e+00+0.000000e+00j 0.0000000e+00+0.000000e+00j\n",
      "  0.0000000e+00+0.000000e+00j ... 0.0000000e+00+0.000000e+00j\n",
      "  0.0000000e+00+0.000000e+00j 0.0000000e+00+0.000000e+00j]\n",
      " [0.0000000e+00+0.000000e+00j 0.0000000e+00+0.000000e+00j\n",
      "  0.0000000e+00+0.000000e+00j ... 0.0000000e+00+0.000000e+00j\n",
      "  0.0000000e+00+0.000000e+00j 0.0000000e+00+0.000000e+00j]\n",
      " [0.0000000e+00+0.000000e+00j 0.0000000e+00+0.000000e+00j\n",
      "  0.0000000e+00+0.000000e+00j ... 0.0000000e+00+0.000000e+00j\n",
      "  0.0000000e+00+0.000000e+00j 0.0000000e+00+0.000000e+00j]]\n",
      "n: 600\n"
     ]
    },
    {
     "name": "stderr",
     "output_type": "stream",
     "text": [
      "  0%|          | 25/100000 [00:00<06:42, 248.45it/s]"
     ]
    },
    {
     "name": "stdout",
     "output_type": "stream",
     "text": [
      "Evaluating performance on training set waveforms.\n"
     ]
    },
    {
     "name": "stderr",
     "output_type": "stream",
     "text": [
      "100%|██████████| 100000/100000 [06:03<00:00, 274.78it/s]\n",
      "  0%|          | 31/10000 [00:00<00:32, 306.10it/s]"
     ]
    },
    {
     "name": "stdout",
     "output_type": "stream",
     "text": [
      "  Mean mismatch = 8.421539909875264e-09\n",
      "  Standard deviation = 1.4880006915518607e-07\n",
      "  Max mismatch = 1.919269561767578e-05\n",
      "  Median mismatch = 0.0\n",
      "  Percentiles:\n",
      "    99    -> 2.384185791015625e-07\n",
      "    99.9  -> 1.2516975402832031e-06\n",
      "    99.99 -> 5.006796121596706e-06\n",
      "Generating 10000 detector FD waveforms for testing reduced basis.\n"
     ]
    },
    {
     "name": "stderr",
     "output_type": "stream",
     "text": [
      "100%|██████████| 10000/10000 [00:27<00:00, 365.97it/s]\n"
     ]
    },
    {
     "name": "stdout",
     "output_type": "stream",
     "text": [
      "Evaluating performance on test set waveforms.\n"
     ]
    },
    {
     "name": "stderr",
     "output_type": "stream",
     "text": [
      "100%|██████████| 20000/20000 [01:09<00:00, 286.55it/s]\n"
     ]
    },
    {
     "name": "stdout",
     "output_type": "stream",
     "text": [
      "  Mean mismatch = 1.7631053950140085e-08\n",
      "  Standard deviation = 4.333401193434838e-07\n",
      "  Max mismatch = 4.38690185546875e-05\n",
      "  Median mismatch = 0.0\n",
      "  Percentiles:\n",
      "    99    -> 2.980232238769531e-07\n",
      "    99.9  -> 2.3248791694652562e-06\n",
      "    99.99 -> 1.6451895236943397e-05\n",
      "Sampling 1000000 sets of parameters from prior.\n",
      "Setting extrinsic parameters to fiducial values.\n",
      "Splitting parameters into training and test sets.\n"
     ]
    },
    {
     "name": "stderr",
     "output_type": "stream",
     "text": [
      "\r",
      "  0%|          | 0/1000000 [00:00<?, ?it/s]"
     ]
    },
    {
     "name": "stdout",
     "output_type": "stream",
     "text": [
      "PyCBC PSD from_txt\n",
      "Generating + and x waveforms.\n"
     ]
    },
    {
     "name": "stderr",
     "output_type": "stream",
     "text": [
      "100%|██████████| 1000000/1000000 [2:17:23<00:00, 121.31it/s] \n",
      "  0%|          | 0/1001 [00:00<?, ?it/s]"
     ]
    },
    {
     "name": "stdout",
     "output_type": "stream",
     "text": [
      "Performing additional dataset initialization.\n",
      "Building time translation matrices.\n"
     ]
    },
    {
     "name": "stderr",
     "output_type": "stream",
     "text": [
      "100%|██████████| 1001/1001 [03:05<00:00,  5.40it/s]\n"
     ]
    },
    {
     "name": "stdout",
     "output_type": "stream",
     "text": [
      "Program complete.\n"
     ]
    }
   ],
   "source": [
    "# check valid gravitational wave event input\n",
    "gw_event = args.event\n",
    "valid_gw_events = ['GW150914', 'GW170814']\n",
    "assert gw_event in valid_gw_events, (\n",
    "    f\"event {gw_event} must be one of {valid_gw_events}\"\n",
    ")\n",
    "\n",
    "# check save dir\n",
    "assert os.path.exists(args.outdir)\n",
    "save_path = os.path.join(args.outdir, gw_event)\n",
    "\n",
    "wfd = wfg.WaveformDataset(\n",
    "    spins_aligned=False,\n",
    "    domain='RB',\n",
    "    extrinsic_at_train=True\n",
    ")\n",
    "\n",
    "wfd.Nrb = 600\n",
    "wfd.approximant = 'IMRPhenomPv2'\n",
    "\n",
    "wfd.load_event(f'data/events/{gw_event}/')\n",
    "\n",
    "wfd.importance_sampling = 'uniform_distance'\n",
    "\n",
    "# edit priors\n",
    "wfd.prior['distance'] = [100.0, 1000.0]\n",
    "wfd.prior['a_1'][1] = 0.88\n",
    "wfd.prior['a_2'][1] = 0.88\n",
    "\n",
    "print('Dataset properties')\n",
    "print('Event', wfd.event)\n",
    "print(wfd.prior)\n",
    "print('f_min', wfd.f_min)\n",
    "print('f_min_psd', wfd.f_min_psd)\n",
    "print('f_max', wfd.f_max)\n",
    "print('T', wfd.time_duration)\n",
    "print('reference time', wfd.ref_time)\n",
    "\n",
    "# long runtime\n",
    "wfd.generate_reduced_basis(args.generate_reduced_basis)  # args can specify samples used to generate svd basis\n",
    "wfd.generate_dataset(args.generate_dataset)  # if basis=None, we generate basis with default number of samples\n",
    "# wfd.generate_noisy_test_data(args.generate_noisy_test_data)\n",
    "\n",
    "# save generated waveform data\n",
    "# wfd.save(save_path)\n",
    "# wfd.save_train(save_path)\n",
    "# wfd.save_noisy_test_data(save_path)\n",
    "\n",
    "print('Program complete.')\n"
   ]
  },
  {
   "cell_type": "code",
   "execution_count": null,
   "metadata": {},
   "outputs": [],
   "source": []
  }
 ],
 "metadata": {
  "kernelspec": {
   "display_name": "astro",
   "language": "python",
   "name": "astro"
  },
  "language_info": {
   "codemirror_mode": {
    "name": "ipython",
    "version": 3
   },
   "file_extension": ".py",
   "mimetype": "text/x-python",
   "name": "python",
   "nbconvert_exporter": "python",
   "pygments_lexer": "ipython3",
   "version": "3.8.8"
  }
 },
 "nbformat": 4,
 "nbformat_minor": 4
}
