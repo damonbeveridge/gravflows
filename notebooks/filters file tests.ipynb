{
 "cells": [
  {
   "cell_type": "code",
   "execution_count": 23,
   "id": "b067b686",
   "metadata": {
    "scrolled": false
   },
   "outputs": [
    {
     "name": "stdout",
     "output_type": "stream",
     "text": [
      "(11, 2, 4)\n",
      "[[[ 1.0582612e+02  3.0375451e+00  8.8487153e-01 -5.5820806e-01]\n",
      "  [ 1.1660774e+02  2.8585063e+00  9.9779461e-01 -7.0717296e-01]]\n",
      "\n",
      " [[ 1.8898542e+02  2.2435339e+00  9.8832475e-01 -5.0829033e-01]\n",
      "  [ 1.0442554e+02  3.3747453e+00  9.3000176e-01  9.7813226e-01]]\n",
      "\n",
      " [[ 8.7072710e+01  3.7434024e+00  7.0642910e-01  3.3307905e-01]\n",
      "  [ 1.3004913e+02  2.8624891e+00  4.2288377e-01  8.5886900e-01]]\n",
      "\n",
      " [[ 1.5960423e+02  2.4293896e+00  9.9398430e-01 -6.1200481e-01]\n",
      "  [ 1.9619456e+02  2.1266876e+00  9.8481310e-01 -8.7368927e-01]]\n",
      "\n",
      " [[ 9.1517370e+01  3.4885337e+00  7.4011109e-01 -2.7807745e-01]\n",
      "  [ 8.6950066e+01  3.6341171e+00  9.6723817e-01 -8.1374632e-01]]\n",
      "\n",
      " [[ 3.9952616e+01  7.7852459e+00  8.8900772e-01  3.1205721e-02]\n",
      "  [ 8.4667999e+01  4.5515718e+00  8.0668982e-01 -6.4870252e-01]]\n",
      "\n",
      " [[ 1.6594898e+02  2.8239944e+00  9.9891880e-01 -9.0132557e-01]\n",
      "  [ 4.8500279e+01  6.6950799e+00  9.9317601e-01  6.2144435e-01]]\n",
      "\n",
      " [[ 3.6503992e+01  6.4359805e+00  8.0707308e-01  2.5633173e-01]\n",
      "  [ 8.6712016e+01  3.4879643e+00  3.6081796e-01 -5.8676288e-01]]\n",
      "\n",
      " [[ 4.2412174e+01  6.6319562e+00  3.2948962e-01  6.9128923e-01]\n",
      "  [ 7.6163340e+01  4.0432636e+00  9.4441790e-01 -9.9421660e-01]]\n",
      "\n",
      " [[ 4.9852430e+01  4.4924534e+00  9.3832531e-01 -8.1502060e-01]\n",
      "  [ 8.6227807e+01  2.8444464e+00  7.3710344e-01  2.5877285e-02]]\n",
      "\n",
      " [[ 1.5664645e+02  1.8471861e+00  9.3384356e-01 -3.9367669e-03]\n",
      "  [ 1.0504185e+02  2.2483858e+00  9.8832347e-01 -9.3086773e-01]]]\n",
      "12.539230204988174\n",
      "13.234412182201519\n",
      "13.115902693419487\n",
      "12.964642539160085\n",
      "12.834850828177833\n",
      "14.50228349094219\n",
      "14.405206503015469\n",
      "12.512655861508135\n",
      "12.949255410020942\n",
      "11.062125197610163\n",
      "10.419044129821133\n"
     ]
    }
   ],
   "source": [
    "import numpy as np\n",
    "\n",
    "file = np.load('./data/test_filter_sampling/filters.npy', mmap_mode='r')\n",
    "\n",
    "print(np.shape(file))\n",
    "print(file)\n",
    "\n",
    "def chirp_mass(m1, m2):\n",
    "    return ((m1 * m2)**0.6)/ (m1 + m2)**0.2\n",
    "\n",
    "for i in file:\n",
    "    print(chirp_mass(i[1][0], i[1][1]))"
   ]
  },
  {
   "cell_type": "code",
   "execution_count": 24,
   "id": "e9d11b05",
   "metadata": {},
   "outputs": [
    {
     "name": "stdout",
     "output_type": "stream",
     "text": [
      "12.53914599092583\n",
      "13.233824763253162\n",
      "13.11579265031018\n",
      "12.963531160246465\n",
      "12.834575156098758\n",
      "14.502214021738892\n",
      "14.404600554404768\n",
      "12.51261602122208\n",
      "12.94845273698263\n",
      "11.061964484892062\n",
      "10.419007878937599\n"
     ]
    }
   ],
   "source": [
    "# Speed testing for filter sampling code for 1000 samples with 10 filters each\n",
    "\n",
    "# Going at it singularly: 361 seconds\n",
    "\n",
    "# Going at it 5 samples per multiprocessing task: 163 seconds\n",
    "\n",
    "# Going at it 10 samples per multiprocessing task: 143 seconds\n",
    "\n",
    "# Going at it 15 samples per multiprocessing task: 143 seconds\n",
    "\n",
    "# Going at it 20 samples per multiprocessing task: 141 seconds\n",
    "\n",
    "# Going at it 20 samples per multiprocessing task: 163 seconds"
   ]
  },
  {
   "cell_type": "code",
   "execution_count": null,
   "id": "114ed67c",
   "metadata": {},
   "outputs": [],
   "source": []
  },
  {
   "cell_type": "code",
   "execution_count": null,
   "id": "8b51f2fe",
   "metadata": {},
   "outputs": [],
   "source": []
  },
  {
   "cell_type": "code",
   "execution_count": 1,
   "id": "8e63f586",
   "metadata": {},
   "outputs": [
    {
     "name": "stdout",
     "output_type": "stream",
     "text": [
      "[[1, 2, 3, 4, 5], [6, 7, 8, 9, 10], [11, 12, 13]]\n"
     ]
    }
   ],
   "source": [
    "data_list = [1,2,3,4,5,6,7,8,9,10,11,12,13]\n",
    "new_list = [data_list[i:i+5] for i in range(0, len(data_list), 5)]\n",
    "print(new_list)"
   ]
  },
  {
   "cell_type": "code",
   "execution_count": 1,
   "id": "9dab5e20",
   "metadata": {},
   "outputs": [
    {
     "name": "stdout",
     "output_type": "stream",
     "text": [
      "[[[1. 1.]\n",
      "  [1. 1.]]\n",
      "\n",
      " [[1. 1.]\n",
      "  [1. 1.]]\n",
      "\n",
      " [[1. 1.]\n",
      "  [1. 1.]]\n",
      "\n",
      " [[1. 1.]\n",
      "  [1. 1.]]]\n",
      "[[[0. 0.]\n",
      "  [0. 0.]]\n",
      "\n",
      " [[0. 0.]\n",
      "  [0. 0.]]]\n",
      "[[[1. 1.]\n",
      "  [1. 1.]]\n",
      "\n",
      " [[0. 0.]\n",
      "  [0. 0.]]\n",
      "\n",
      " [[0. 0.]\n",
      "  [0. 0.]]\n",
      "\n",
      " [[1. 1.]\n",
      "  [1. 1.]]]\n"
     ]
    }
   ],
   "source": [
    "import numpy as np\n",
    "\n",
    "x = np.ones(shape=(4,2,2))\n",
    "print(x)\n",
    "y = np.zeros(shape=(2,2,2))\n",
    "print(y)\n",
    "\n",
    "x[np.arange(1,3,1)] = y\n",
    "print(x)"
   ]
  },
  {
   "cell_type": "code",
   "execution_count": 15,
   "id": "5d8a7c90",
   "metadata": {},
   "outputs": [
    {
     "name": "stdout",
     "output_type": "stream",
     "text": [
      "[[[1, 2], [1, 2]]]\n",
      "[[[0. 0.]\n",
      "  [0. 0.]]\n",
      "\n",
      " [[0. 0.]\n",
      "  [0. 0.]]\n",
      "\n",
      " [[0. 0.]\n",
      "  [0. 0.]]\n",
      "\n",
      " [[0. 0.]\n",
      "  [0. 0.]]\n",
      "\n",
      " [[0. 0.]\n",
      "  [0. 0.]]\n",
      "\n",
      " [[0. 0.]\n",
      "  [0. 0.]]\n",
      "\n",
      " [[0. 0.]\n",
      "  [0. 0.]]\n",
      "\n",
      " [[0. 0.]\n",
      "  [0. 0.]]\n",
      "\n",
      " [[0. 0.]\n",
      "  [0. 0.]]\n",
      "\n",
      " [[0. 0.]\n",
      "  [0. 0.]]\n",
      "\n",
      " [[0. 0.]\n",
      "  [0. 0.]]]\n",
      "10\n",
      "12\n",
      "11\n",
      "[[[0. 0.]\n",
      "  [0. 0.]]\n",
      "\n",
      " [[0. 0.]\n",
      "  [0. 0.]]\n",
      "\n",
      " [[0. 0.]\n",
      "  [0. 0.]]\n",
      "\n",
      " [[0. 0.]\n",
      "  [0. 0.]]\n",
      "\n",
      " [[0. 0.]\n",
      "  [0. 0.]]\n",
      "\n",
      " [[0. 0.]\n",
      "  [0. 0.]]\n",
      "\n",
      " [[0. 0.]\n",
      "  [0. 0.]]\n",
      "\n",
      " [[0. 0.]\n",
      "  [0. 0.]]\n",
      "\n",
      " [[0. 0.]\n",
      "  [0. 0.]]\n",
      "\n",
      " [[0. 0.]\n",
      "  [0. 0.]]\n",
      "\n",
      " [[1. 2.]\n",
      "  [1. 2.]]]\n"
     ]
    }
   ],
   "source": [
    "chunk = 5  # This indexes from 0\n",
    "chunk_size = 2\n",
    "\n",
    "x = [[[1,2],[1,2]],[[3,4],[3,4]]]\n",
    "x = [[[1,2],[1,2]]]\n",
    "y = np.zeros(shape=(11,2,2))\n",
    "print(x)\n",
    "print(y)\n",
    "start = chunk*chunk_size\n",
    "end = (chunk+1)*chunk_size\n",
    "print(start)\n",
    "print(end)\n",
    "if end > len(y):\n",
    "    end = len(y)\n",
    "print(end)\n",
    "y[start:end] = np.stack(x)\n",
    "print(y)"
   ]
  },
  {
   "cell_type": "code",
   "execution_count": null,
   "id": "e7768a67",
   "metadata": {},
   "outputs": [],
   "source": []
  },
  {
   "cell_type": "code",
   "execution_count": null,
   "id": "ae489766",
   "metadata": {},
   "outputs": [],
   "source": []
  },
  {
   "cell_type": "code",
   "execution_count": null,
   "id": "179641fd",
   "metadata": {},
   "outputs": [],
   "source": []
  },
  {
   "cell_type": "code",
   "execution_count": null,
   "id": "3ef91d0d",
   "metadata": {},
   "outputs": [],
   "source": []
  },
  {
   "cell_type": "code",
   "execution_count": null,
   "id": "1d0a9c47",
   "metadata": {},
   "outputs": [],
   "source": []
  }
 ],
 "metadata": {
  "kernelspec": {
   "display_name": "Python 3 (ipykernel)",
   "language": "python",
   "name": "python3"
  },
  "language_info": {
   "codemirror_mode": {
    "name": "ipython",
    "version": 3
   },
   "file_extension": ".py",
   "mimetype": "text/x-python",
   "name": "python",
   "nbconvert_exporter": "python",
   "pygments_lexer": "ipython3",
   "version": "3.8.5"
  }
 },
 "nbformat": 4,
 "nbformat_minor": 5
}
